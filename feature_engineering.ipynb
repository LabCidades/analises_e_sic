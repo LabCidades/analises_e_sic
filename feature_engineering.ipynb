{
 "cells": [
  {
   "cell_type": "code",
   "execution_count": 1,
   "id": "8b1db3eb-1d0e-4380-9eb9-44f2b170de74",
   "metadata": {},
   "outputs": [],
   "source": [
    "import pandas as pd\n",
    "import numpy as np\n",
    "\n",
    "from core.utils import full_file_path"
   ]
  },
  {
   "cell_type": "code",
   "execution_count": 2,
   "id": "0af1fc2b-35d6-4d79-bd1a-a07fc2baefad",
   "metadata": {},
   "outputs": [],
   "source": [
    "np.random.seed(42)"
   ]
  },
  {
   "cell_type": "code",
   "execution_count": 3,
   "id": "f9e4d1a9-7f7a-44e6-ba6c-a235d0a7afe0",
   "metadata": {},
   "outputs": [
    {
     "name": "stderr",
     "output_type": "stream",
     "text": [
      "C:\\Users\\d835916\\Anaconda3\\lib\\site-packages\\IPython\\core\\interactiveshell.py:3444: DtypeWarning: Columns (1,13) have mixed types.Specify dtype option on import or set low_memory=False.\n",
      "  exec(code_obj, self.user_global_ns, self.user_ns)\n"
     ]
    }
   ],
   "source": [
    "path_dados = full_file_path('dados_merged.csv', 'generated_data')\n",
    "df = pd.read_csv(path_dados, sep = ';', encoding='utf-8')"
   ]
  },
  {
   "cell_type": "code",
   "execution_count": 4,
   "id": "715b34af-43f5-4280-967e-1a4dbd824481",
   "metadata": {},
   "outputs": [
    {
     "data": {
      "text/html": [
       "<div>\n",
       "<style scoped>\n",
       "    .dataframe tbody tr th:only-of-type {\n",
       "        vertical-align: middle;\n",
       "    }\n",
       "\n",
       "    .dataframe tbody tr th {\n",
       "        vertical-align: top;\n",
       "    }\n",
       "\n",
       "    .dataframe thead th {\n",
       "        text-align: right;\n",
       "    }\n",
       "</style>\n",
       "<table border=\"1\" class=\"dataframe\">\n",
       "  <thead>\n",
       "    <tr style=\"text-align: right;\">\n",
       "      <th></th>\n",
       "      <th>Unnamed: 0</th>\n",
       "      <th>Data do Pedido</th>\n",
       "      <th>Número de Controle</th>\n",
       "      <th>Forma do Pedido</th>\n",
       "      <th>Orgão/Entidade</th>\n",
       "      <th>SIC</th>\n",
       "      <th>Pedido</th>\n",
       "      <th>Síntese</th>\n",
       "      <th>Forma de recebimento da resposta</th>\n",
       "      <th>Situação do pedido</th>\n",
       "      <th>...</th>\n",
       "      <th>Anexo Resposta</th>\n",
       "      <th>Tipo Pessoa</th>\n",
       "      <th>Sexo</th>\n",
       "      <th>Data Nascimento</th>\n",
       "      <th>Município</th>\n",
       "      <th>Estado</th>\n",
       "      <th>País</th>\n",
       "      <th>Escolaridade</th>\n",
       "      <th>Profissão</th>\n",
       "      <th>_merge</th>\n",
       "    </tr>\n",
       "  </thead>\n",
       "  <tbody>\n",
       "    <tr>\n",
       "      <th>0</th>\n",
       "      <td>0</td>\n",
       "      <td>NaN</td>\n",
       "      <td>56725811650</td>\n",
       "      <td>NaN</td>\n",
       "      <td>Secretaria de Governo</td>\n",
       "      <td>Central de Atendimento ao Cidadão - CAC</td>\n",
       "      <td>Solicito meu atestado ou certidão de tempo de ...</td>\n",
       "      <td>Solicito meu atestado ou certidão de tempo de ...</td>\n",
       "      <td>Por carta</td>\n",
       "      <td>Encerrada</td>\n",
       "      <td>...</td>\n",
       "      <td>NaN</td>\n",
       "      <td>PF</td>\n",
       "      <td>NaN</td>\n",
       "      <td>NaN</td>\n",
       "      <td>Oriente</td>\n",
       "      <td>São Paulo</td>\n",
       "      <td>Brasil</td>\n",
       "      <td>Ensino superior</td>\n",
       "      <td>Servidor público municipal</td>\n",
       "      <td>both</td>\n",
       "    </tr>\n",
       "    <tr>\n",
       "      <th>1</th>\n",
       "      <td>1</td>\n",
       "      <td>NaN</td>\n",
       "      <td>94006811820</td>\n",
       "      <td>NaN</td>\n",
       "      <td>Secretaria Estadual de Gestão Pública</td>\n",
       "      <td>&lt; Outros - Gestão Pública &gt;</td>\n",
       "      <td>como conseguir tirar um novo rg</td>\n",
       "      <td>como conseguir tirar um novo rg</td>\n",
       "      <td>Consulta pelo sistema</td>\n",
       "      <td>Encerrada</td>\n",
       "      <td>...</td>\n",
       "      <td>NaN</td>\n",
       "      <td>PF</td>\n",
       "      <td>NaN</td>\n",
       "      <td>NaN</td>\n",
       "      <td>São Paulo</td>\n",
       "      <td>São Paulo</td>\n",
       "      <td>Brasil</td>\n",
       "      <td>NaN</td>\n",
       "      <td>NaN</td>\n",
       "      <td>both</td>\n",
       "    </tr>\n",
       "    <tr>\n",
       "      <th>2</th>\n",
       "      <td>2</td>\n",
       "      <td>NaN</td>\n",
       "      <td>927607102560</td>\n",
       "      <td>E-mail</td>\n",
       "      <td>Departamento de Trânsito - DETRAN</td>\n",
       "      <td>Departamento de Trânsito - DETRAN</td>\n",
       "      <td>Prezado Sr., Faço uma pesquisa para ser utiliz...</td>\n",
       "      <td>Prezado Sr., Faço uma pesquisa para ser utiliz...</td>\n",
       "      <td>Correspondência eletrônica (e-mail)</td>\n",
       "      <td>Encerrada</td>\n",
       "      <td>...</td>\n",
       "      <td>resultado.xlsx</td>\n",
       "      <td>PF</td>\n",
       "      <td>NaN</td>\n",
       "      <td>NaN</td>\n",
       "      <td>São Paulo</td>\n",
       "      <td>São Paulo</td>\n",
       "      <td>Brasil</td>\n",
       "      <td>NaN</td>\n",
       "      <td>NaN</td>\n",
       "      <td>both</td>\n",
       "    </tr>\n",
       "    <tr>\n",
       "      <th>3</th>\n",
       "      <td>3</td>\n",
       "      <td>NaN</td>\n",
       "      <td>66342711990</td>\n",
       "      <td>NaN</td>\n",
       "      <td>Secretaria Estadual de Gestão Pública</td>\n",
       "      <td>&lt; Outros - Gestão Pública &gt;</td>\n",
       "      <td>teste</td>\n",
       "      <td>teste</td>\n",
       "      <td>Buscar/Consultar pessoalmente</td>\n",
       "      <td>Encerrada</td>\n",
       "      <td>...</td>\n",
       "      <td>NaN</td>\n",
       "      <td>PF</td>\n",
       "      <td>NaN</td>\n",
       "      <td>NaN</td>\n",
       "      <td>NaN</td>\n",
       "      <td>NaN</td>\n",
       "      <td>Brasil</td>\n",
       "      <td>NaN</td>\n",
       "      <td>NaN</td>\n",
       "      <td>both</td>\n",
       "    </tr>\n",
       "    <tr>\n",
       "      <th>4</th>\n",
       "      <td>4</td>\n",
       "      <td>NaN</td>\n",
       "      <td>66670812160</td>\n",
       "      <td>NaN</td>\n",
       "      <td>Secretaria Estadual de Gestão Pública</td>\n",
       "      <td>&lt; Outros - Gestão Pública &gt;</td>\n",
       "      <td>Como posso fazer se eu quiser enviar para uma ...</td>\n",
       "      <td>Como posso fazer se eu quiser enviar para uma ...</td>\n",
       "      <td>Buscar/Consultar pessoalmente</td>\n",
       "      <td>Encerrada</td>\n",
       "      <td>...</td>\n",
       "      <td>NaN</td>\n",
       "      <td>PF</td>\n",
       "      <td>NaN</td>\n",
       "      <td>NaN</td>\n",
       "      <td>NaN</td>\n",
       "      <td>NaN</td>\n",
       "      <td>Brasil</td>\n",
       "      <td>NaN</td>\n",
       "      <td>NaN</td>\n",
       "      <td>both</td>\n",
       "    </tr>\n",
       "  </tbody>\n",
       "</table>\n",
       "<p>5 rows × 27 columns</p>\n",
       "</div>"
      ],
      "text/plain": [
       "   Unnamed: 0 Data do Pedido  Número de Controle Forma do Pedido  \\\n",
       "0           0            NaN         56725811650             NaN   \n",
       "1           1            NaN         94006811820             NaN   \n",
       "2           2            NaN        927607102560          E-mail   \n",
       "3           3            NaN         66342711990             NaN   \n",
       "4           4            NaN         66670812160             NaN   \n",
       "\n",
       "                          Orgão/Entidade  \\\n",
       "0                  Secretaria de Governo   \n",
       "1  Secretaria Estadual de Gestão Pública   \n",
       "2      Departamento de Trânsito - DETRAN   \n",
       "3  Secretaria Estadual de Gestão Pública   \n",
       "4  Secretaria Estadual de Gestão Pública   \n",
       "\n",
       "                                       SIC  \\\n",
       "0  Central de Atendimento ao Cidadão - CAC   \n",
       "1              < Outros - Gestão Pública >   \n",
       "2        Departamento de Trânsito - DETRAN   \n",
       "3              < Outros - Gestão Pública >   \n",
       "4              < Outros - Gestão Pública >   \n",
       "\n",
       "                                              Pedido  \\\n",
       "0  Solicito meu atestado ou certidão de tempo de ...   \n",
       "1                    como conseguir tirar um novo rg   \n",
       "2  Prezado Sr., Faço uma pesquisa para ser utiliz...   \n",
       "3                                              teste   \n",
       "4  Como posso fazer se eu quiser enviar para uma ...   \n",
       "\n",
       "                                             Síntese  \\\n",
       "0  Solicito meu atestado ou certidão de tempo de ...   \n",
       "1                    como conseguir tirar um novo rg   \n",
       "2  Prezado Sr., Faço uma pesquisa para ser utiliz...   \n",
       "3                                              teste   \n",
       "4  Como posso fazer se eu quiser enviar para uma ...   \n",
       "\n",
       "      Forma de recebimento da resposta Situação do pedido  ...  \\\n",
       "0                            Por carta          Encerrada  ...   \n",
       "1                Consulta pelo sistema          Encerrada  ...   \n",
       "2  Correspondência eletrônica (e-mail)          Encerrada  ...   \n",
       "3        Buscar/Consultar pessoalmente          Encerrada  ...   \n",
       "4        Buscar/Consultar pessoalmente          Encerrada  ...   \n",
       "\n",
       "   Anexo Resposta Tipo Pessoa Sexo Data Nascimento  Município     Estado  \\\n",
       "0             NaN          PF  NaN             NaN    Oriente  São Paulo   \n",
       "1             NaN          PF  NaN             NaN  São Paulo  São Paulo   \n",
       "2  resultado.xlsx          PF  NaN             NaN  São Paulo  São Paulo   \n",
       "3             NaN          PF  NaN             NaN        NaN        NaN   \n",
       "4             NaN          PF  NaN             NaN        NaN        NaN   \n",
       "\n",
       "     País     Escolaridade                   Profissão _merge  \n",
       "0  Brasil  Ensino superior  Servidor público municipal   both  \n",
       "1  Brasil              NaN                         NaN   both  \n",
       "2  Brasil              NaN                         NaN   both  \n",
       "3  Brasil              NaN                         NaN   both  \n",
       "4  Brasil              NaN                         NaN   both  \n",
       "\n",
       "[5 rows x 27 columns]"
      ]
     },
     "execution_count": 4,
     "metadata": {},
     "output_type": "execute_result"
    }
   ],
   "source": [
    "df.head()"
   ]
  },
  {
   "cell_type": "code",
   "execution_count": 5,
   "id": "dfcfaf1a-952c-439a-9f06-c5f8ac228b7b",
   "metadata": {},
   "outputs": [],
   "source": [
    "def padronizar_nom_coluna(nom):\n",
    "    \n",
    "    nom = nom.lower()\n",
    "    nom = nom.replace(' ', '_')\n",
    "    \n",
    "    return nom\n",
    "\n",
    "nomes_cols = {col : padronizar_nom_coluna(col) \n",
    "             for col in df.columns}\n",
    "df = df.rename(nomes_cols, axis = 1)\n"
   ]
  },
  {
   "cell_type": "code",
   "execution_count": 6,
   "id": "a3999d18-2ef8-4680-a5ff-a7807730cead",
   "metadata": {},
   "outputs": [
    {
     "name": "stdout",
     "output_type": "stream",
     "text": [
      "\n",
      "\n",
      "unnamed:_0 : int64\n",
      "Nulls: 0.0\n",
      "Max: 190642\n",
      "Min: 0\n",
      "61433    61433\n",
      "Name: unnamed:_0, dtype: int64\n",
      "****************************************************************************************************\n",
      "\n",
      "\n",
      "data_do_pedido : object\n",
      "Nulls: 0.9999685275619876\n",
      "Categorias: 6\n",
      "25338    NaN\n",
      "Name: data_do_pedido, dtype: object\n",
      "****************************************************************************************************\n",
      "\n",
      "\n",
      "número_de_controle : int64\n",
      "Nulls: 0.0\n",
      "Max: 147919060913910\n",
      "Min: 170\n",
      "154882    89250342831180\n",
      "Name: número_de_controle, dtype: int64\n",
      "****************************************************************************************************\n",
      "\n",
      "\n",
      "forma_do_pedido : object\n",
      "Nulls: 0.00015736219006205315\n",
      "Categorias: 6\n",
      "176386    Formulário Eletrônico\n",
      "Name: forma_do_pedido, dtype: object\n",
      "****************************************************************************************************\n",
      "\n",
      "\n",
      "orgão/entidade : object\n",
      "Nulls: 0.0\n",
      "Categorias: 104\n",
      "153196    Departamento de Trânsito - DETRAN\n",
      "Name: orgão/entidade, dtype: object\n",
      "****************************************************************************************************\n",
      "\n",
      "\n",
      "sic : object\n",
      "Nulls: 0.0\n",
      "Categorias: 313\n",
      "183387    Secretaria Estadual da Educação\n",
      "Name: sic, dtype: object\n",
      "****************************************************************************************************\n",
      "\n",
      "\n",
      "pedido : object\n",
      "Nulls: 0.0\n",
      "Categorias: 178213\n",
      "135787    Todo projeto apresentado pelo poder público pr...\n",
      "Name: pedido, dtype: object\n",
      "****************************************************************************************************\n",
      "\n",
      "\n",
      "síntese : object\n",
      "Nulls: 0.007705501906705203\n",
      "Categorias: 173852\n",
      "48856    Solicitamos a lista das informações classifica...\n",
      "Name: síntese, dtype: object\n",
      "****************************************************************************************************\n",
      "\n",
      "\n",
      "forma_de_recebimento_da_resposta : object\n",
      "Nulls: 0.0\n",
      "Categorias: 4\n",
      "184235    Correspondência eletrônica (e-mail)\n",
      "Name: forma_de_recebimento_da_resposta, dtype: object\n",
      "****************************************************************************************************\n",
      "\n",
      "\n",
      "situação_do_pedido : object\n",
      "Nulls: 0.0\n",
      "Categorias: 6\n",
      "136260    Encerrada\n",
      "Name: situação_do_pedido, dtype: object\n",
      "****************************************************************************************************\n",
      "\n",
      "\n",
      "natureza_da_solicitação : object\n",
      "Nulls: 0.014708119364466568\n",
      "Categorias: 6\n",
      "49601    Pública\n",
      "Name: natureza_da_solicitação, dtype: object\n",
      "****************************************************************************************************\n",
      "\n",
      "\n",
      "a_solicitação_foi : object\n",
      "Nulls: 0.014739591802478979\n",
      "Categorias: 4\n",
      "114948    Atendida\n",
      "Name: a_solicitação_foi, dtype: object\n",
      "****************************************************************************************************\n",
      "\n",
      "\n",
      "resposta : object\n",
      "Nulls: 0.01862119249067629\n",
      "Categorias: 144555\n",
      "27618    Prezado Senhor, Segundas vias de boletins de o...\n",
      "Name: resposta, dtype: object\n",
      "****************************************************************************************************\n",
      "\n",
      "\n",
      "data_da_resposta : object\n",
      "Nulls: 0.9999213189049689\n",
      "Categorias: 15\n",
      "122118    NaN\n",
      "Name: data_da_resposta, dtype: object\n",
      "****************************************************************************************************\n",
      "\n",
      "\n",
      "prorrogada : object\n",
      "Nulls: 0.8788835677155731\n",
      "Categorias: 1\n",
      "43239    NaN\n",
      "Name: prorrogada, dtype: object\n",
      "****************************************************************************************************\n",
      "\n",
      "\n",
      "redirecionado_por : object\n",
      "Nulls: 0.7021710736822228\n",
      "Categorias: 274\n",
      "184207    NaN\n",
      "Name: redirecionado_por, dtype: object\n",
      "****************************************************************************************************\n",
      "\n",
      "\n",
      "tempo_resposta_(em_dias) : float64\n",
      "Nulls: 0.015521157346453844\n",
      "Max: 3289.0\n",
      "Min: -1.0\n",
      "17368    6.0\n",
      "Name: tempo_resposta_(em_dias), dtype: float64\n",
      "****************************************************************************************************\n",
      "\n",
      "\n",
      "anexo_resposta : object\n",
      "Nulls: 0.8268334006493813\n",
      "Categorias: 19952\n",
      "124580    NaN\n",
      "Name: anexo_resposta, dtype: object\n",
      "****************************************************************************************************\n",
      "\n",
      "\n",
      "tipo_pessoa : object\n",
      "Nulls: 0.0\n",
      "Categorias: 2\n",
      "50350    PF\n",
      "Name: tipo_pessoa, dtype: object\n",
      "****************************************************************************************************\n",
      "\n",
      "\n",
      "sexo : object\n",
      "Nulls: 0.2793441143918214\n",
      "Categorias: 3\n",
      "38812    M\n",
      "Name: sexo, dtype: object\n",
      "****************************************************************************************************\n",
      "\n",
      "\n",
      "data_nascimento : object\n",
      "Nulls: 0.9997534659022361\n",
      "Categorias: 44\n",
      "92239    NaN\n",
      "Name: data_nascimento, dtype: object\n",
      "****************************************************************************************************\n",
      "\n",
      "\n",
      "município : object\n",
      "Nulls: 0.1805836039088768\n",
      "Categorias: 1982\n",
      "149914    São Paulo\n",
      "Name: município, dtype: object\n",
      "****************************************************************************************************\n",
      "\n",
      "\n",
      "estado : object\n",
      "Nulls: 0.13374737074007437\n",
      "Categorias: 27\n",
      "61178    São Paulo\n",
      "Name: estado, dtype: object\n",
      "****************************************************************************************************\n",
      "\n",
      "\n",
      "país : object\n",
      "Nulls: 0.004301233195029453\n",
      "Categorias: 127\n",
      "184033    Brasil\n",
      "Name: país, dtype: object\n",
      "****************************************************************************************************\n",
      "\n",
      "\n",
      "escolaridade : object\n",
      "Nulls: 0.3317876869331683\n",
      "Categorias: 7\n",
      "18761    Ensino médio\n",
      "Name: escolaridade, dtype: object\n",
      "****************************************************************************************************\n",
      "\n",
      "\n",
      "profissão : object\n",
      "Nulls: 0.372334677905824\n",
      "Categorias: 15\n",
      "53975    NaN\n",
      "Name: profissão, dtype: object\n",
      "****************************************************************************************************\n",
      "\n",
      "\n",
      "_merge : object\n",
      "Nulls: 0.0\n",
      "Categorias: 1\n",
      "182563    both\n",
      "Name: _merge, dtype: object\n",
      "****************************************************************************************************\n"
     ]
    }
   ],
   "source": [
    "for col in df.columns:\n",
    "    print('\\n')\n",
    "\n",
    "    print(f'{col} : {df[col].dtype}')\n",
    "    print(f'Nulls: {df[col].isnull().mean()}')\n",
    "    \n",
    "    if df[col].dtype == 'O':\n",
    "        print(f'Categorias: {df[col].nunique()}')\n",
    "    else:\n",
    "        print(f'Max: {df[col].max()}')\n",
    "        print(f'Min: {df[col].min()}')\n",
    "    print(df[col].sample())\n",
    "    print('*'*100)"
   ]
  },
  {
   "cell_type": "code",
   "execution_count": 7,
   "id": "b49b0af8-c8ec-49de-8ac2-d441e5fcc1ac",
   "metadata": {},
   "outputs": [
    {
     "name": "stdout",
     "output_type": "stream",
     "text": [
      "{'data_do_pedido': 0.9999685275619876, 'data_da_resposta': 0.9999213189049689, 'data_nascimento': 0.9997534659022361}\n"
     ]
    }
   ],
   "source": [
    "colunas_muitos_nulos = {}\n",
    "\n",
    "for col in df.columns:\n",
    "    prop_null = df[col].isnull().mean()\n",
    "    if  prop_null >= 0.9:\n",
    "        colunas_muitos_nulos[col] = prop_null\n",
    "        \n",
    "    \n",
    "print(colunas_muitos_nulos)\n",
    "\n",
    "df = df.drop(list(colunas_muitos_nulos.keys()), axis=1)\n",
    "        "
   ]
  },
  {
   "cell_type": "code",
   "execution_count": 8,
   "id": "410bed88-89a8-4347-957c-80c0d744548b",
   "metadata": {},
   "outputs": [],
   "source": [
    "colunas_id = [\n",
    "    'unnamed:_0', \n",
    "    'número_de_controle',\n",
    "        ]\n",
    "\n",
    "df = df.drop(colunas_id, axis=1).copy().reset_index(drop=True)\n",
    "\n"
   ]
  },
  {
   "cell_type": "code",
   "execution_count": 9,
   "id": "6acf9026-34c1-4cc8-9eff-6fd5ad1114b7",
   "metadata": {},
   "outputs": [],
   "source": [
    "df['secretaria_governo'] = df['orgão/entidade']=='Secretaria de Governo'\n",
    "\n",
    "df = df.drop('orgão/entidade', axis=1)"
   ]
  },
  {
   "cell_type": "code",
   "execution_count": 10,
   "id": "c2e66458-cec3-4676-8c8c-56398df633c8",
   "metadata": {},
   "outputs": [],
   "source": [
    "df['capital'] = df['município']=='São Paulo'\n",
    "\n",
    "\n",
    "cidades_mais_quinhentos = [\n",
    "                        'Campinas', \n",
    "                        'Guarulhos', \n",
    "                        'Sorocaba',\n",
    "                        'São Bernardo do Campo',\n",
    "                        'São José dos Campos',\n",
    "                        'Santo André',\n",
    "                        'Ribeirão Preto',\n",
    "                        'Osasco',\n",
    "                    ]\n",
    "df['cidade_grande'] = df['município'].isin(cidades_mais_quinhentos)"
   ]
  },
  {
   "cell_type": "code",
   "execution_count": 11,
   "id": "4e67a002-75e8-42d1-b10f-be2447993679",
   "metadata": {},
   "outputs": [
    {
     "data": {
      "text/plain": [
       "True"
      ]
     },
     "execution_count": 11,
     "metadata": {},
     "output_type": "execute_result"
    }
   ],
   "source": [
    "set(df[df['cidade_grande']]['município'].unique()) == set(cidades_mais_quinhentos)"
   ]
  },
  {
   "cell_type": "code",
   "execution_count": 12,
   "id": "4c818370-d2d9-4ae1-bfac-954dc9e4ce2d",
   "metadata": {},
   "outputs": [],
   "source": [
    "df = df.drop('município', axis=1)"
   ]
  },
  {
   "cell_type": "code",
   "execution_count": 13,
   "id": "f11fda37-a3c3-4dce-be3d-84c5ede858d7",
   "metadata": {},
   "outputs": [],
   "source": [
    "df['país'] = df['país'].str.lower()"
   ]
  },
  {
   "cell_type": "code",
   "execution_count": 14,
   "id": "cb8dca99-48c0-4a31-8cfa-00ca70003089",
   "metadata": {},
   "outputs": [],
   "source": [
    "grafias_brasil_ou_lixo = {\n",
    "    'brásil',\n",
    "    'ブラジル', # é Brasil em japonês\n",
    "    'bras il',\n",
    "    'bbrasil',\n",
    "    'brasl',\n",
    "    'leme',\n",
    "    'piracicaba',\n",
    "    'rua santa virginia',\n",
    "    'avnida lagedao n. 369 cidadessoberana',\n",
    "    'barasil',\n",
    "    'bradil',\n",
    "    'brasile',\n",
    "    'brésil',\n",
    "    'campinas brasil',\n",
    "    'brasíl',\n",
    "    'brasileira',\n",
    "    'brasileira',\n",
    "    'wbrasil',\n",
    "    'regina vieira de oliveira',\n",
    "    'brasilbrasil',\n",
    "    'são paulo',\n",
    "    'brazil',\n",
    "    'brasilsp',\n",
    "    'br',\n",
    "    'bb',\n",
    "    'bbbb',\n",
    "    'sp',\n",
    "    'sao paulo',\n",
    "    'brazileiro',\n",
    "    'brasilbrasilbrasilbrasilbrasil',\n",
    "    'brasileiro',\n",
    "    '12970-000', #eh um cep do brasil\n",
    "    'brasilien',\n",
    "    \"'\",\n",
    "    'brasilz',\n",
    "    'brasi',\n",
    "    'ferraz de vasconcelos',\n",
    "    'brasileiros',\n",
    "    'brasil e',\n",
    "    'l',\n",
    "    'bbbbbb',\n",
    "    'kib', \n",
    "    '🎶🎶👌👌',\n",
    "       \n",
    "}\n",
    "\n",
    "df['país'] = df['país'].apply(lambda x: 'brasil' if x in grafias_brasil_ou_lixo else x)"
   ]
  },
  {
   "cell_type": "code",
   "execution_count": 15,
   "id": "87dfd31b-c63d-4dd6-893d-2439d000f102",
   "metadata": {},
   "outputs": [],
   "source": [
    "df['estrangeiro'] = df['país'].apply(lambda x: x!='brasil' and not pd.isnull(x))\n",
    "\n",
    "df = df.drop('país', axis=1)"
   ]
  },
  {
   "cell_type": "code",
   "execution_count": 16,
   "id": "7fd2e82f-d6b0-41df-97a7-1f420ef21bc6",
   "metadata": {},
   "outputs": [],
   "source": [
    "df['reside_fora_sp'] = df['estado']!='São Paulo'\n",
    "\n",
    "df = df.drop('estado', axis=1)"
   ]
  },
  {
   "cell_type": "code",
   "execution_count": 17,
   "id": "bf366fd7-b599-44ad-b404-dee1f8fb8b83",
   "metadata": {},
   "outputs": [
    {
     "data": {
      "text/plain": [
       "NaN                              70983\n",
       "Outra                            27003\n",
       "Servidor público estadual        19669\n",
       "Empregado - Setor privado        17180\n",
       "Estudante                        10669\n",
       "Profissional liberal/Autônomo    10296\n",
       "Professor                         7632\n",
       "Jornalista                        7166\n",
       "Servidor público municipal        5692\n",
       "Empresário/Empreendedor           5502\n",
       "Pesquisador                       4780\n",
       "Servidor público federal          2625\n",
       "Membro de ONG nacional             791\n",
       "Membro de partido político         411\n",
       "Representante de sindicato         182\n",
       "Membro de ONG internacional         62\n",
       "Name: profissão, dtype: int64"
      ]
     },
     "execution_count": 17,
     "metadata": {},
     "output_type": "execute_result"
    }
   ],
   "source": [
    "df['profissão'].value_counts(dropna=False)"
   ]
  },
  {
   "cell_type": "code",
   "execution_count": 18,
   "id": "fcf989b8-d020-4972-8e8b-a8784754c894",
   "metadata": {},
   "outputs": [],
   "source": [
    "df['profissao_terceiro_setor'] = df['profissão'].isin({'Membro de ONG internacional', 'Membro de ONG nacional'})\n",
    "df['profissao_jornalista'] = df['profissão']=='Jornalista'\n",
    "df['profissao_academia'] = df['profissão'].isin({'Estudante', 'Professor', 'Pesquisador'})\n",
    "df['profissao_partido_politico'] = df['profissão'] == 'Membro de partido político'\n",
    "df['profissao_servidor_publico'] = df['profissão'].isin({'Servidor público municipal', 'Servidor público estadual', 'Servidor público federal'})\n",
    "df['profissao_sindicalista'] = df['profissão']=='Representante de sindicato'\n",
    "df['profissao_empresario'] = df['profissão']=='Empresário/Empreendedor'"
   ]
  },
  {
   "cell_type": "code",
   "execution_count": 19,
   "id": "77e5bbdb-b675-438d-9ede-18bf2b0ede7b",
   "metadata": {},
   "outputs": [],
   "source": [
    "df = df.drop('profissão',axis=1)"
   ]
  },
  {
   "cell_type": "code",
   "execution_count": 20,
   "id": "eb044e3d-effb-4491-9b2b-16fd5f6e3bae",
   "metadata": {},
   "outputs": [
    {
     "data": {
      "text/plain": [
       "Formulário Eletrônico    186514\n",
       "E-mail                     2122\n",
       "Dispositivo Movel          1115\n",
       "Carta                       417\n",
       "Pessoalmente                380\n",
       "Telefone                     65\n",
       "Name: forma_do_pedido, dtype: int64"
      ]
     },
     "execution_count": 20,
     "metadata": {},
     "output_type": "execute_result"
    }
   ],
   "source": [
    "df['forma_do_pedido'].value_counts()"
   ]
  },
  {
   "cell_type": "code",
   "execution_count": 21,
   "id": "c2111f4d-1af6-475e-b4da-7bf21d19991f",
   "metadata": {},
   "outputs": [],
   "source": [
    "df['pedido_pessoal'] = df['forma_do_pedido'].isin({'Pessoalmente', 'Telefone', 'Carta'})"
   ]
  },
  {
   "cell_type": "code",
   "execution_count": 22,
   "id": "8b09365d-d7c4-41e7-ac8e-3131f8a7486c",
   "metadata": {},
   "outputs": [],
   "source": [
    "df = df.drop('forma_do_pedido', axis=1)"
   ]
  },
  {
   "cell_type": "code",
   "execution_count": 23,
   "id": "99854b0d-3369-464f-9350-765a7cd84e3b",
   "metadata": {},
   "outputs": [],
   "source": [
    "df['mulher'] = df['sexo']=='F'\n",
    "df = df.drop('sexo', axis=1)"
   ]
  },
  {
   "cell_type": "code",
   "execution_count": 24,
   "id": "f668458b-c9cf-4af2-8d91-11caf637209c",
   "metadata": {},
   "outputs": [],
   "source": [
    "# a dummy é contra a escolaridade nao informada!\n",
    "\n",
    "df_escolaridade = pd.get_dummies(df['escolaridade'])\n",
    "df_escolaridade = df_escolaridade.rename({escol : f'escol_{escol.lower().replace(\" \", \"_\")}'\n",
    "                                          for escol in df_escolaridade}, axis=1)"
   ]
  },
  {
   "cell_type": "code",
   "execution_count": 25,
   "id": "c94b7c92-7807-466d-942f-fcd874fe06af",
   "metadata": {},
   "outputs": [],
   "source": [
    "df = pd.concat([df, df_escolaridade], axis=1)"
   ]
  },
  {
   "cell_type": "code",
   "execution_count": 26,
   "id": "6634ff2c-ac73-4c1c-ad65-c9cc46014cf1",
   "metadata": {},
   "outputs": [],
   "source": [
    "df = df.drop('escolaridade', axis=1)"
   ]
  },
  {
   "cell_type": "code",
   "execution_count": 27,
   "id": "0294a37b-4d2d-42c0-9550-a98efe2dd1c6",
   "metadata": {},
   "outputs": [],
   "source": [
    "del df_escolaridade"
   ]
  },
  {
   "cell_type": "code",
   "execution_count": 28,
   "id": "465dad12-be21-4a7d-ad67-d67272fd5b4d",
   "metadata": {},
   "outputs": [],
   "source": [
    "df['natureza_da_solicitação'].value_counts()\n",
    "\n",
    "#isso é analise após a solicitacao - é pós-fato\n",
    "\n",
    "df = df.drop('natureza_da_solicitação', axis=1)"
   ]
  },
  {
   "cell_type": "markdown",
   "id": "51846cda-59a1-47ed-aa7a-bfc1b513a6c0",
   "metadata": {},
   "source": [
    "FILTRANDO OS DADOS PARA APENAS PESSOA FISICA, COM SOLICITACAO ENCERRADA"
   ]
  },
  {
   "cell_type": "code",
   "execution_count": 29,
   "id": "a0046aed-5ea7-4836-88ef-c0e52d610473",
   "metadata": {},
   "outputs": [
    {
     "data": {
      "text/plain": [
       "PF    170289\n",
       "PJ     20354\n",
       "Name: tipo_pessoa, dtype: int64"
      ]
     },
     "execution_count": 29,
     "metadata": {},
     "output_type": "execute_result"
    }
   ],
   "source": [
    "df['tipo_pessoa'].value_counts()"
   ]
  },
  {
   "cell_type": "code",
   "execution_count": 30,
   "id": "82454b50-b4bd-4703-b8d4-a4e642fdc12a",
   "metadata": {},
   "outputs": [],
   "source": [
    "pessoa_juridica = df['tipo_pessoa']=='PJ'\n",
    "\n",
    "df = df[~pessoa_juridica].copy().reset_index(drop=True)\n",
    "\n",
    "df = df.drop('tipo_pessoa', axis=1)"
   ]
  },
  {
   "cell_type": "code",
   "execution_count": 31,
   "id": "31355711-60c3-4eba-af41-f15d751798af",
   "metadata": {},
   "outputs": [
    {
     "data": {
      "text/plain": [
       "Encerrada                      167858\n",
       "Resposta enviada ao cidadão      1724\n",
       "Recebida                          260\n",
       "Em Análise                        257\n",
       "Em Recurso                        188\n",
       "Respondida                          2\n",
       "Name: situação_do_pedido, dtype: int64"
      ]
     },
     "execution_count": 31,
     "metadata": {},
     "output_type": "execute_result"
    }
   ],
   "source": [
    "df['situação_do_pedido'].value_counts()"
   ]
  },
  {
   "cell_type": "code",
   "execution_count": 32,
   "id": "0a7b9f1b-b694-45df-a02a-5ccdc35cb2ae",
   "metadata": {},
   "outputs": [],
   "source": [
    "encerrados = df['situação_do_pedido'] == 'Encerrada'\n",
    "\n",
    "df = df[encerrados].copy().reset_index(drop=True)"
   ]
  },
  {
   "cell_type": "code",
   "execution_count": 33,
   "id": "36a6540b-6a8b-48ff-9e7c-2ab135501c88",
   "metadata": {},
   "outputs": [],
   "source": [
    "df = df.drop('situação_do_pedido', axis=1)"
   ]
  },
  {
   "cell_type": "code",
   "execution_count": 34,
   "id": "2d1dfe10-aa71-4347-a21e-df9a08cd1433",
   "metadata": {},
   "outputs": [
    {
     "data": {
      "text/plain": [
       "Atendida                 149866\n",
       "Atendida Parcialmente      8961\n",
       "Negada                     7120\n",
       "Não Respondido                1\n",
       "Name: a_solicitação_foi, dtype: int64"
      ]
     },
     "execution_count": 34,
     "metadata": {},
     "output_type": "execute_result"
    }
   ],
   "source": [
    "df['a_solicitação_foi'].value_counts()"
   ]
  },
  {
   "cell_type": "code",
   "execution_count": 35,
   "id": "d2b4720d-a0aa-40b8-8ef4-399baa83b5fa",
   "metadata": {},
   "outputs": [],
   "source": [
    "nao_atendidas = ['Negada', 'Não Respondido']\n",
    "nao_atendidas = df['a_solicitação_foi'].isin(nao_atendidas)\n",
    "df['nao_atendidas'] = nao_atendidas\n",
    "\n",
    "negadas = df[nao_atendidas].copy().reset_index(drop=True)\n",
    "atendidas = df[~nao_atendidas].copy().reset_index(drop=True)\n",
    "\n",
    "amostra_atendidas = atendidas.sample(len(negadas), random_state=42)"
   ]
  },
  {
   "cell_type": "code",
   "execution_count": 36,
   "id": "0f737d58-3180-4aad-a3c0-0083ffca2eb7",
   "metadata": {},
   "outputs": [
    {
     "data": {
      "text/plain": [
       "True     7121\n",
       "False    7121\n",
       "Name: nao_atendidas, dtype: int64"
      ]
     },
     "execution_count": 36,
     "metadata": {},
     "output_type": "execute_result"
    }
   ],
   "source": [
    "df = pd.concat([negadas, amostra_atendidas])\n",
    "\n",
    "df['nao_atendidas'].value_counts()"
   ]
  },
  {
   "cell_type": "code",
   "execution_count": 37,
   "id": "bc809f0f-8268-4317-b336-f2ffe1478c65",
   "metadata": {},
   "outputs": [],
   "source": [
    "df = df.drop('a_solicitação_foi', axis=1)"
   ]
  },
  {
   "cell_type": "code",
   "execution_count": 38,
   "id": "53f14f0b-42af-4278-a2ad-d3be014c4bcc",
   "metadata": {},
   "outputs": [
    {
     "data": {
      "text/plain": [
       "Index(['sic', 'pedido', 'síntese', 'forma_de_recebimento_da_resposta',\n",
       "       'resposta', 'prorrogada', 'redirecionado_por',\n",
       "       'tempo_resposta_(em_dias)', 'anexo_resposta', '_merge',\n",
       "       'secretaria_governo', 'capital', 'cidade_grande', 'estrangeiro',\n",
       "       'reside_fora_sp', 'profissao_terceiro_setor', 'profissao_jornalista',\n",
       "       'profissao_academia', 'profissao_partido_politico',\n",
       "       'profissao_servidor_publico', 'profissao_sindicalista',\n",
       "       'profissao_empresario', 'pedido_pessoal', 'mulher', 'escol_doutorado',\n",
       "       'escol_ensino_fundamental', 'escol_ensino_médio',\n",
       "       'escol_ensino_superior', 'escol_especialização', 'escol_mestrado',\n",
       "       'escol_sem_instrução_formal', 'nao_atendidas'],\n",
       "      dtype='object')"
      ]
     },
     "execution_count": 38,
     "metadata": {},
     "output_type": "execute_result"
    }
   ],
   "source": [
    "df.columns"
   ]
  },
  {
   "cell_type": "code",
   "execution_count": 43,
   "id": "201ce49c-6628-41d1-a69d-e210777eb6a9",
   "metadata": {},
   "outputs": [],
   "source": [
    "#inicialmente nao vou considerar o texto na modelagem\n",
    "#depois podemos fazer uma NLP\n",
    "\n",
    "colunas_modelagem = [\n",
    "    'secretaria_governo', \n",
    "    'capital', \n",
    "    'cidade_grande', \n",
    "    'estrangeiro',\n",
    "    'reside_fora_sp',\n",
    "    'profissao_terceiro_setor', \n",
    "    'profissao_jornalista',\n",
    "    'profissao_academia', \n",
    "    'profissao_partido_politico',\n",
    "    'profissao_servidor_publico', \n",
    "    'profissao_sindicalista',\n",
    "    'profissao_empresario', \n",
    "    'pedido_pessoal', \n",
    "    'mulher',\n",
    "    'escol_doutorado',\n",
    "   'escol_ensino_fundamental', \n",
    "    'escol_ensino_médio',\n",
    "   'escol_ensino_superior', \n",
    "    'escol_especialização', \n",
    "    'escol_mestrado',\n",
    "   'escol_sem_instrução_formal', \n",
    "    'nao_atendidas'\n",
    "    ]"
   ]
  },
  {
   "cell_type": "code",
   "execution_count": 44,
   "id": "972dcc0c-6abf-469b-a5a3-c783a6e13277",
   "metadata": {},
   "outputs": [],
   "source": [
    "df = df[colunas_modelagem]"
   ]
  },
  {
   "cell_type": "code",
   "execution_count": 47,
   "id": "987ff562-67ca-4738-b7fd-bcb9df5db6df",
   "metadata": {},
   "outputs": [],
   "source": [
    "path_file = full_file_path('dados_modelagem.csv', 'generated_data')"
   ]
  },
  {
   "cell_type": "code",
   "execution_count": 48,
   "id": "edc4e6dc-5f55-4bbd-8120-5268a8f5b1b9",
   "metadata": {},
   "outputs": [],
   "source": [
    "df.to_csv(path_file, sep=';', encoding='utf-8')"
   ]
  }
 ],
 "metadata": {
  "kernelspec": {
   "display_name": "Python 3 (ipykernel)",
   "language": "python",
   "name": "python3"
  },
  "language_info": {
   "codemirror_mode": {
    "name": "ipython",
    "version": 3
   },
   "file_extension": ".py",
   "mimetype": "text/x-python",
   "name": "python",
   "nbconvert_exporter": "python",
   "pygments_lexer": "ipython3",
   "version": "3.9.7"
  }
 },
 "nbformat": 4,
 "nbformat_minor": 5
}
