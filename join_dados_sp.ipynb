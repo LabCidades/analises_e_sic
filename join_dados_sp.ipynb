{
 "cells": [
  {
   "cell_type": "code",
   "execution_count": 1,
   "id": "b0313642-bd0e-44e0-8018-07f099e1efbc",
   "metadata": {},
   "outputs": [],
   "source": [
    "import importlib\n",
    "import pandas as pd\n",
    "from pprint import pprint\n",
    "from core.clean_data import DataCleaner\n",
    "from core.join_data import JoinPrepper\n",
    "from core.utils import full_file_path\n",
    "from core.get_data import get_solicitacoes, get_usuarios"
   ]
  },
  {
   "cell_type": "code",
   "execution_count": 2,
   "id": "d579be84-c2f6-427e-9b72-7034037e58eb",
   "metadata": {},
   "outputs": [],
   "source": [
    "pasta_dados = 'original_data'"
   ]
  },
  {
   "cell_type": "code",
   "execution_count": 3,
   "id": "7540709e-bd87-4ff3-9ba3-9e6dc53bfa67",
   "metadata": {},
   "outputs": [],
   "source": [
    "df_users = get_usuarios()\n",
    "df_solicit = get_solicitacoes()"
   ]
  },
  {
   "cell_type": "code",
   "execution_count": 4,
   "id": "310a5954-3418-4e87-bb3f-2d894c6528af",
   "metadata": {},
   "outputs": [],
   "source": [
    "clean_data = DataCleaner()"
   ]
  },
  {
   "cell_type": "code",
   "execution_count": 5,
   "id": "d12cd79f-694a-4416-985d-ad7db14fbb93",
   "metadata": {},
   "outputs": [
    {
     "name": "stdout",
     "output_type": "stream",
     "text": [
      "Droped 1 all empty rows\n",
      "Null report:\n",
      "{'A Solicitação foi': {'prop_nulos': 0.014744682525112119, 'qtd_nulos': 2811},\n",
      " 'Anexo Resposta': {'prop_nulos': 0.8268352172886779, 'qtd_nulos': 157632},\n",
      " 'Anexo Solicitação': {'prop_nulos': 0.9290566235673634, 'qtd_nulos': 177120},\n",
      " 'Anexo do Recurso': {'prop_nulos': 0.9776338220252302, 'qtd_nulos': 186381},\n",
      " 'Anexo do Recurso.1': {'prop_nulos': 0.9855438117967951, 'qtd_nulos': 187889},\n",
      " 'Anexo do Recurso.2': {'prop_nulos': 0.9932387421647565, 'qtd_nulos': 189356},\n",
      " 'Classificação da Resposta': {'prop_nulos': 0.9468803273099216,\n",
      "                               'qtd_nulos': 180518},\n",
      " 'Classificação da Resposta.1': {'prop_nulos': 0.9829106454404783,\n",
      "                                 'qtd_nulos': 187387},\n",
      " 'Classificação da Resposta.2': {'prop_nulos': 0.9924781662251829,\n",
      "                                 'qtd_nulos': 189211},\n",
      " 'Classificação do Motivo de Recurso': {'prop_nulos': 0.9472002937396732,\n",
      "                                        'qtd_nulos': 180579},\n",
      " 'Classificação do Motivo de Recurso.1': {'prop_nulos': 0.9822077683652862,\n",
      "                                          'qtd_nulos': 187253},\n",
      " 'Classificação do Motivo de Recurso.2': {'prop_nulos': 0.9925201290356421,\n",
      "                                          'qtd_nulos': 189219},\n",
      " 'Classificação do Recurso': {'prop_nulos': 0.9502058800388156,\n",
      "                              'qtd_nulos': 181152},\n",
      " 'Classificação do Recurso.1': {'prop_nulos': 0.9853812059062655,\n",
      "                                'qtd_nulos': 187858},\n",
      " 'Classificação do Recurso.2': {'prop_nulos': 0.9926093000078681,\n",
      "                                'qtd_nulos': 189236},\n",
      " 'Data da Resposta': {'prop_nulos': 0.015526239869915288, 'qtd_nulos': 2960},\n",
      " 'Data da Resposta do Recurso': {'prop_nulos': 0.9502583335518896,\n",
      "                                 'qtd_nulos': 181162},\n",
      " 'Data da Resposta do Recurso.1': {'prop_nulos': 0.9869180938393349,\n",
      "                                   'qtd_nulos': 188151},\n",
      " 'Data da Resposta do Recurso.2': {'prop_nulos': 0.9927456791418605,\n",
      "                                   'qtd_nulos': 189262},\n",
      " 'Data do Pedido': {'prop_nulos': 0.0, 'qtd_nulos': 0},\n",
      " 'Data do Recurso': {'prop_nulos': 0.9434498675548795, 'qtd_nulos': 179864},\n",
      " 'Data do Recurso.1': {'prop_nulos': 0.9811429620498833, 'qtd_nulos': 187050},\n",
      " 'Data do Recurso.2': {'prop_nulos': 0.9923889952529571, 'qtd_nulos': 189194},\n",
      " 'Em Atraso': {'prop_nulos': 0.986425030816439, 'qtd_nulos': 188057},\n",
      " 'Em Atraso.1': {'prop_nulos': 0.993076136274227, 'qtd_nulos': 189325},\n",
      " 'Em Atraso.2': {'prop_nulos': 0.9943664926958483, 'qtd_nulos': 189571},\n",
      " 'Em Atraso.3': {'prop_nulos': 0.9998216580555482, 'qtd_nulos': 190611},\n",
      " 'Forma de recebimento da resposta': {'prop_nulos': 5.245351307403813e-06,\n",
      "                                      'qtd_nulos': 1},\n",
      " 'Forma do Pedido': {'prop_nulos': 0.00016785124183692202, 'qtd_nulos': 32},\n",
      " 'Instância': {'prop_nulos': 0.9434498675548795, 'qtd_nulos': 179864},\n",
      " 'Instância.1': {'prop_nulos': 0.9811429620498833, 'qtd_nulos': 187050},\n",
      " 'Instância.2': {'prop_nulos': 0.9923889952529571, 'qtd_nulos': 189194},\n",
      " 'Motivo do Recurso': {'prop_nulos': 0.9434498675548795, 'qtd_nulos': 179864},\n",
      " 'Motivo do Recurso.1': {'prop_nulos': 0.9811429620498833, 'qtd_nulos': 187050},\n",
      " 'Motivo do Recurso.2': {'prop_nulos': 0.9923889952529571, 'qtd_nulos': 189194},\n",
      " 'Natureza da Solicitação': {'prop_nulos': 0.014713210417267697,\n",
      "                             'qtd_nulos': 2805},\n",
      " 'Natureza da Solicitação.1': {'prop_nulos': 0.9468803273099216,\n",
      "                               'qtd_nulos': 180518},\n",
      " 'Natureza da Solicitação.2': {'prop_nulos': 0.9829106454404783,\n",
      "                               'qtd_nulos': 187387},\n",
      " 'Natureza da Solicitação.3': {'prop_nulos': 0.9924781662251829,\n",
      "                               'qtd_nulos': 189211},\n",
      " 'Nome/Razão Social': {'prop_nulos': 1.0, 'qtd_nulos': 190645},\n",
      " 'Número de Controle': {'prop_nulos': 5.245351307403813e-06, 'qtd_nulos': 1},\n",
      " 'Orgão/Entidade': {'prop_nulos': 5.245351307403813e-06, 'qtd_nulos': 1},\n",
      " 'Pedido': {'prop_nulos': 5.245351307403813e-06, 'qtd_nulos': 1},\n",
      " 'Prorrogada': {'prop_nulos': 0.878884838312046, 'qtd_nulos': 167555},\n",
      " 'Recurso': {'prop_nulos': 0.9434131500957277, 'qtd_nulos': 179857},\n",
      " 'Redirecionado por': {'prop_nulos': 0.7021741981169188, 'qtd_nulos': 133866},\n",
      " 'Resposta': {'prop_nulos': 0.01862624249259094, 'qtd_nulos': 3551},\n",
      " 'Resposta.1': {'prop_nulos': 0.9521676414277847, 'qtd_nulos': 181526},\n",
      " 'Resposta.2': {'prop_nulos': 0.9881507513965748, 'qtd_nulos': 188386},\n",
      " 'Resposta.3': {'prop_nulos': 0.9932754596239083, 'qtd_nulos': 189363},\n",
      " 'SIC': {'prop_nulos': 5.245351307403813e-06, 'qtd_nulos': 1},\n",
      " 'Situação do Recurso': {'prop_nulos': 0.9434131500957277, 'qtd_nulos': 179857},\n",
      " 'Situação do Recurso.1': {'prop_nulos': 0.9434498675548795,\n",
      "                           'qtd_nulos': 179864},\n",
      " 'Situação do Recurso.2': {'prop_nulos': 0.9811429620498833,\n",
      "                           'qtd_nulos': 187050},\n",
      " 'Situação do Recurso.3': {'prop_nulos': 0.9923889952529571,\n",
      "                           'qtd_nulos': 189194},\n",
      " 'Situação do pedido': {'prop_nulos': 5.245351307403813e-06, 'qtd_nulos': 1},\n",
      " 'Síntese': {'prop_nulos': 0.007710666421883606, 'qtd_nulos': 1470},\n",
      " 'Tempo Resposta (em dias)': {'prop_nulos': 0.015526239869915288,\n",
      "                              'qtd_nulos': 2960},\n",
      " 'Tempo de Resposta (dias)': {'prop_nulos': 0.9443625586823677,\n",
      "                              'qtd_nulos': 180038},\n",
      " 'Tempo de Resposta (dias).1': {'prop_nulos': 0.9864512575729759,\n",
      "                                'qtd_nulos': 188062},\n",
      " 'Tempo de Resposta (dias).2': {'prop_nulos': 0.9926197907104828,\n",
      "                                'qtd_nulos': 189238}}\n",
      "Droped following columns with > 0.9 nuls:\n",
      "['Nome/Razão Social', 'Em Atraso', 'Recurso', 'Situação do Recurso', 'Anexo Solicitação', 'Instância', 'Natureza da Solicitação.1', 'Classificação da Resposta', 'Data do Recurso', 'Classificação do Motivo de Recurso', 'Motivo do Recurso', 'Situação do Recurso.1', 'Classificação do Recurso', 'Resposta.1', 'Data da Resposta do Recurso', 'Tempo de Resposta (dias)', 'Em Atraso.1', 'Anexo do Recurso', 'Instância.1', 'Natureza da Solicitação.2', 'Classificação da Resposta.1', 'Data do Recurso.1', 'Classificação do Motivo de Recurso.1', 'Motivo do Recurso.1', 'Situação do Recurso.2', 'Classificação do Recurso.1', 'Resposta.2', 'Data da Resposta do Recurso.1', 'Tempo de Resposta (dias).1', 'Em Atraso.2', 'Anexo do Recurso.1', 'Instância.2', 'Natureza da Solicitação.3', 'Classificação da Resposta.2', 'Data do Recurso.2', 'Classificação do Motivo de Recurso.2', 'Motivo do Recurso.2', 'Situação do Recurso.3', 'Classificação do Recurso.2', 'Resposta.3', 'Data da Resposta do Recurso.2', 'Tempo de Resposta (dias).2', 'Em Atraso.3', 'Anexo do Recurso.2']\n"
     ]
    }
   ],
   "source": [
    "df_solicit = clean_data(df_solicit)"
   ]
  },
  {
   "cell_type": "code",
   "execution_count": 6,
   "id": "bd58fbd1-1b71-4799-906e-03c883b3127e",
   "metadata": {},
   "outputs": [
    {
     "name": "stdout",
     "output_type": "stream",
     "text": [
      "Droped 2 all empty rows\n",
      "Null report:\n",
      "{'Cargo responsável': {'prop_nulos': 0.9528534938975459, 'qtd_nulos': 181672},\n",
      " 'Data Nascimento': {'prop_nulos': 0.3486030179218613, 'qtd_nulos': 66465},\n",
      " 'Escolaridade': {'prop_nulos': 0.33181405741079717, 'qtd_nulos': 63264},\n",
      " 'Estado': {'prop_nulos': 0.13377145824264008, 'qtd_nulos': 25505},\n",
      " 'Município': {'prop_nulos': 0.18060326967759532, 'qtd_nulos': 34434},\n",
      " 'Número de Controle': {'prop_nulos': 0.0, 'qtd_nulos': 0},\n",
      " 'País': {'prop_nulos': 0.004332296589234295, 'qtd_nulos': 826},\n",
      " 'Profissão': {'prop_nulos': 0.3723572204069002, 'qtd_nulos': 70994},\n",
      " 'Sexo': {'prop_nulos': 0.2793754359832373, 'qtd_nulos': 53266},\n",
      " 'Tipo Pessoa': {'prop_nulos': 3.671437787486691e-05, 'qtd_nulos': 7},\n",
      " 'Tipo de Instituição': {'prop_nulos': 0.9410262193107137, 'qtd_nulos': 179417},\n",
      " 'Área de Atuação': {'prop_nulos': 0.9439056755183284, 'qtd_nulos': 179966}}\n",
      "Droped following columns with > 0.9 nuls:\n",
      "['Área de Atuação', 'Tipo de Instituição', 'Cargo responsável']\n"
     ]
    }
   ],
   "source": [
    "df_users = clean_data(df_users)"
   ]
  },
  {
   "cell_type": "code",
   "execution_count": 7,
   "id": "ba8d20be-138f-49a0-ada8-c2511ba11ca7",
   "metadata": {},
   "outputs": [],
   "source": [
    "prep_join = JoinPrepper()"
   ]
  },
  {
   "cell_type": "code",
   "execution_count": 8,
   "id": "e967e94f-610a-4130-bfb1-585c9874280c",
   "metadata": {},
   "outputs": [],
   "source": [
    "df_users = prep_join(df_users)\n",
    "df_solicit= prep_join(df_solicit)"
   ]
  },
  {
   "cell_type": "code",
   "execution_count": 9,
   "id": "59f20212-566a-478f-8a8a-72a4bb9a4485",
   "metadata": {},
   "outputs": [],
   "source": [
    "df_users['Número de Controle'] = df_users['Número de Controle'].apply(lambda x: x + '0')"
   ]
  },
  {
   "cell_type": "code",
   "execution_count": 10,
   "id": "70508cd5-ecad-4a15-a769-8b5b9416f9c6",
   "metadata": {},
   "outputs": [],
   "source": [
    "merged = pd.merge(df_solicit, df_users, how='left', on='Número de Controle', suffixes=('_solicitacao', '_usuario'), indicator=True)"
   ]
  },
  {
   "cell_type": "code",
   "execution_count": 11,
   "id": "80c4d65e-5313-4b74-b5d4-d49140bd8640",
   "metadata": {},
   "outputs": [
    {
     "data": {
      "text/plain": [
       "both          190643\n",
       "left_only          1\n",
       "right_only         0\n",
       "Name: _merge, dtype: int64"
      ]
     },
     "execution_count": 11,
     "metadata": {},
     "output_type": "execute_result"
    }
   ],
   "source": [
    "merged['_merge'].value_counts()"
   ]
  },
  {
   "cell_type": "code",
   "execution_count": 14,
   "id": "1d73d488-d856-4f9d-9ec3-15345a1faf37",
   "metadata": {},
   "outputs": [],
   "source": [
    "sem_join = merged['_merge']=='left_only'"
   ]
  },
  {
   "cell_type": "code",
   "execution_count": 15,
   "id": "87bba7ff-433c-4f3d-a4b3-31e5f1abd6e8",
   "metadata": {},
   "outputs": [
    {
     "data": {
      "text/html": [
       "<div>\n",
       "<style scoped>\n",
       "    .dataframe tbody tr th:only-of-type {\n",
       "        vertical-align: middle;\n",
       "    }\n",
       "\n",
       "    .dataframe tbody tr th {\n",
       "        vertical-align: top;\n",
       "    }\n",
       "\n",
       "    .dataframe thead th {\n",
       "        text-align: right;\n",
       "    }\n",
       "</style>\n",
       "<table border=\"1\" class=\"dataframe\">\n",
       "  <thead>\n",
       "    <tr style=\"text-align: right;\">\n",
       "      <th></th>\n",
       "      <th>Data do Pedido</th>\n",
       "      <th>Número de Controle</th>\n",
       "      <th>Forma do Pedido</th>\n",
       "      <th>Orgão/Entidade</th>\n",
       "      <th>SIC</th>\n",
       "      <th>Pedido</th>\n",
       "      <th>Síntese</th>\n",
       "      <th>Forma de recebimento da resposta</th>\n",
       "      <th>Situação do pedido</th>\n",
       "      <th>Natureza da Solicitação</th>\n",
       "      <th>...</th>\n",
       "      <th>Anexo Resposta</th>\n",
       "      <th>Tipo Pessoa</th>\n",
       "      <th>Sexo</th>\n",
       "      <th>Data Nascimento</th>\n",
       "      <th>Município</th>\n",
       "      <th>Estado</th>\n",
       "      <th>País</th>\n",
       "      <th>Escolaridade</th>\n",
       "      <th>Profissão</th>\n",
       "      <th>_merge</th>\n",
       "    </tr>\n",
       "  </thead>\n",
       "  <tbody>\n",
       "    <tr>\n",
       "      <th>45001</th>\n",
       "      <td>2015-07-30 14:19:59</td>\n",
       "      <td>680</td>\n",
       "      <td>NaN</td>\n",
       "      <td>Secretaria de Desenvolvimento Econômico</td>\n",
       "      <td>Junta Comercial do Estado de São Paulo - JUCESP</td>\n",
       "      <td>Como adquirir o PPP de uma empresa que foi ext...</td>\n",
       "      <td>Como adquirir o PPP de uma empresa que foi ext...</td>\n",
       "      <td>Correspondência eletrônica (e-mail)</td>\n",
       "      <td>Encerrada</td>\n",
       "      <td>Pública</td>\n",
       "      <td>...</td>\n",
       "      <td>NaN</td>\n",
       "      <td>NaN</td>\n",
       "      <td>NaN</td>\n",
       "      <td>NaN</td>\n",
       "      <td>NaN</td>\n",
       "      <td>NaN</td>\n",
       "      <td>NaN</td>\n",
       "      <td>NaN</td>\n",
       "      <td>NaN</td>\n",
       "      <td>left_only</td>\n",
       "    </tr>\n",
       "  </tbody>\n",
       "</table>\n",
       "<p>1 rows × 26 columns</p>\n",
       "</div>"
      ],
      "text/plain": [
       "            Data do Pedido Número de Controle Forma do Pedido  \\\n",
       "45001  2015-07-30 14:19:59                680             NaN   \n",
       "\n",
       "                                Orgão/Entidade  \\\n",
       "45001  Secretaria de Desenvolvimento Econômico   \n",
       "\n",
       "                                                   SIC  \\\n",
       "45001  Junta Comercial do Estado de São Paulo - JUCESP   \n",
       "\n",
       "                                                  Pedido  \\\n",
       "45001  Como adquirir o PPP de uma empresa que foi ext...   \n",
       "\n",
       "                                                 Síntese  \\\n",
       "45001  Como adquirir o PPP de uma empresa que foi ext...   \n",
       "\n",
       "          Forma de recebimento da resposta Situação do pedido  \\\n",
       "45001  Correspondência eletrônica (e-mail)          Encerrada   \n",
       "\n",
       "      Natureza da Solicitação  ... Anexo Resposta Tipo Pessoa Sexo  \\\n",
       "45001                 Pública  ...            NaN         NaN  NaN   \n",
       "\n",
       "      Data Nascimento Município  Estado País Escolaridade Profissão     _merge  \n",
       "45001             NaN       NaN     NaN  NaN          NaN       NaN  left_only  \n",
       "\n",
       "[1 rows x 26 columns]"
      ]
     },
     "execution_count": 15,
     "metadata": {},
     "output_type": "execute_result"
    }
   ],
   "source": [
    "merged[sem_join]"
   ]
  },
  {
   "cell_type": "code",
   "execution_count": 18,
   "id": "9588799c-b5fa-4562-a2be-be87e8a85753",
   "metadata": {},
   "outputs": [],
   "source": [
    "merged = merged[~sem_join].copy().reset_index(drop=True)"
   ]
  },
  {
   "cell_type": "code",
   "execution_count": 20,
   "id": "d338a632-9437-4db4-829b-28c537bbd984",
   "metadata": {},
   "outputs": [],
   "source": [
    "path_salvar = full_file_path('dados_merged.csv', 'generated_data')\n",
    "merged.to_csv(path_salvar, encoding='utf-8')"
   ]
  },
  {
   "cell_type": "code",
   "execution_count": null,
   "id": "f0b7856e-f7ed-430d-a40d-5b4bd1f6e68f",
   "metadata": {},
   "outputs": [],
   "source": []
  }
 ],
 "metadata": {
  "kernelspec": {
   "display_name": "Python 3 (ipykernel)",
   "language": "python",
   "name": "python3"
  },
  "language_info": {
   "codemirror_mode": {
    "name": "ipython",
    "version": 3
   },
   "file_extension": ".py",
   "mimetype": "text/x-python",
   "name": "python",
   "nbconvert_exporter": "python",
   "pygments_lexer": "ipython3",
   "version": "3.9.7"
  }
 },
 "nbformat": 4,
 "nbformat_minor": 5
}
