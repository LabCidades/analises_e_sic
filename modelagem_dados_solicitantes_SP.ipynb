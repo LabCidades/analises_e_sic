{
 "cells": [
  {
   "cell_type": "code",
   "execution_count": 1,
   "id": "11ef3430-4b9d-413b-a57f-cdc23380c698",
   "metadata": {},
   "outputs": [],
   "source": [
    "import pandas as pd\n",
    "import numpy as np\n",
    "import matplotlib.pyplot as plt\n",
    "import seaborn as sns\n",
    "\n",
    "from core.utils import full_file_path\n",
    "\n",
    "from sklearn.model_selection import train_test_split, cross_val_score\n",
    "from sklearn.metrics import confusion_matrix, roc_curve, RocCurveDisplay, roc_auc_score"
   ]
  },
  {
   "cell_type": "code",
   "execution_count": 2,
   "id": "491240ec-b0ec-4c3c-97af-598ceb0e1071",
   "metadata": {},
   "outputs": [],
   "source": [
    "np.random.seed(42)\n",
    "\n",
    "sns.set()"
   ]
  },
  {
   "cell_type": "code",
   "execution_count": 3,
   "id": "27a92355-df0e-4f8a-afbf-2e9667acc093",
   "metadata": {},
   "outputs": [],
   "source": [
    "file_path = full_file_path('dados_modelagem.csv', 'generated_data')\n",
    "df = pd.read_csv(file_path, sep=';', encoding='utf-8')"
   ]
  },
  {
   "cell_type": "code",
   "execution_count": 4,
   "id": "8bc646d7-d111-41b5-ba64-f3d99787c350",
   "metadata": {},
   "outputs": [],
   "source": [
    "df = df.drop('Unnamed: 0', axis=1)"
   ]
  },
  {
   "cell_type": "code",
   "execution_count": 5,
   "id": "3b77d613-c921-44a2-998b-bddce354fb68",
   "metadata": {},
   "outputs": [
    {
     "data": {
      "text/html": [
       "<div>\n",
       "<style scoped>\n",
       "    .dataframe tbody tr th:only-of-type {\n",
       "        vertical-align: middle;\n",
       "    }\n",
       "\n",
       "    .dataframe tbody tr th {\n",
       "        vertical-align: top;\n",
       "    }\n",
       "\n",
       "    .dataframe thead th {\n",
       "        text-align: right;\n",
       "    }\n",
       "</style>\n",
       "<table border=\"1\" class=\"dataframe\">\n",
       "  <thead>\n",
       "    <tr style=\"text-align: right;\">\n",
       "      <th></th>\n",
       "      <th>secretaria_governo</th>\n",
       "      <th>capital</th>\n",
       "      <th>cidade_grande</th>\n",
       "      <th>estrangeiro</th>\n",
       "      <th>reside_fora_sp</th>\n",
       "      <th>profissao_terceiro_setor</th>\n",
       "      <th>profissao_jornalista</th>\n",
       "      <th>profissao_academia</th>\n",
       "      <th>profissao_partido_politico</th>\n",
       "      <th>profissao_servidor_publico</th>\n",
       "      <th>...</th>\n",
       "      <th>pedido_pessoal</th>\n",
       "      <th>mulher</th>\n",
       "      <th>escol_doutorado</th>\n",
       "      <th>escol_ensino_fundamental</th>\n",
       "      <th>escol_ensino_médio</th>\n",
       "      <th>escol_ensino_superior</th>\n",
       "      <th>escol_especialização</th>\n",
       "      <th>escol_mestrado</th>\n",
       "      <th>escol_sem_instrução_formal</th>\n",
       "      <th>nao_atendidas</th>\n",
       "    </tr>\n",
       "  </thead>\n",
       "  <tbody>\n",
       "    <tr>\n",
       "      <th>4720</th>\n",
       "      <td>False</td>\n",
       "      <td>True</td>\n",
       "      <td>False</td>\n",
       "      <td>False</td>\n",
       "      <td>False</td>\n",
       "      <td>False</td>\n",
       "      <td>False</td>\n",
       "      <td>False</td>\n",
       "      <td>False</td>\n",
       "      <td>False</td>\n",
       "      <td>...</td>\n",
       "      <td>False</td>\n",
       "      <td>True</td>\n",
       "      <td>0</td>\n",
       "      <td>0</td>\n",
       "      <td>0</td>\n",
       "      <td>0</td>\n",
       "      <td>0</td>\n",
       "      <td>0</td>\n",
       "      <td>0</td>\n",
       "      <td>True</td>\n",
       "    </tr>\n",
       "    <tr>\n",
       "      <th>5234</th>\n",
       "      <td>False</td>\n",
       "      <td>False</td>\n",
       "      <td>False</td>\n",
       "      <td>False</td>\n",
       "      <td>True</td>\n",
       "      <td>False</td>\n",
       "      <td>False</td>\n",
       "      <td>False</td>\n",
       "      <td>False</td>\n",
       "      <td>False</td>\n",
       "      <td>...</td>\n",
       "      <td>False</td>\n",
       "      <td>True</td>\n",
       "      <td>0</td>\n",
       "      <td>0</td>\n",
       "      <td>0</td>\n",
       "      <td>1</td>\n",
       "      <td>0</td>\n",
       "      <td>0</td>\n",
       "      <td>0</td>\n",
       "      <td>True</td>\n",
       "    </tr>\n",
       "    <tr>\n",
       "      <th>2085</th>\n",
       "      <td>False</td>\n",
       "      <td>True</td>\n",
       "      <td>False</td>\n",
       "      <td>False</td>\n",
       "      <td>False</td>\n",
       "      <td>False</td>\n",
       "      <td>False</td>\n",
       "      <td>False</td>\n",
       "      <td>False</td>\n",
       "      <td>False</td>\n",
       "      <td>...</td>\n",
       "      <td>False</td>\n",
       "      <td>True</td>\n",
       "      <td>0</td>\n",
       "      <td>0</td>\n",
       "      <td>1</td>\n",
       "      <td>0</td>\n",
       "      <td>0</td>\n",
       "      <td>0</td>\n",
       "      <td>0</td>\n",
       "      <td>True</td>\n",
       "    </tr>\n",
       "  </tbody>\n",
       "</table>\n",
       "<p>3 rows × 22 columns</p>\n",
       "</div>"
      ],
      "text/plain": [
       "      secretaria_governo  capital  cidade_grande  estrangeiro  reside_fora_sp  \\\n",
       "4720               False     True          False        False           False   \n",
       "5234               False    False          False        False            True   \n",
       "2085               False     True          False        False           False   \n",
       "\n",
       "      profissao_terceiro_setor  profissao_jornalista  profissao_academia  \\\n",
       "4720                     False                 False               False   \n",
       "5234                     False                 False               False   \n",
       "2085                     False                 False               False   \n",
       "\n",
       "      profissao_partido_politico  profissao_servidor_publico  ...  \\\n",
       "4720                       False                       False  ...   \n",
       "5234                       False                       False  ...   \n",
       "2085                       False                       False  ...   \n",
       "\n",
       "      pedido_pessoal  mulher  escol_doutorado  escol_ensino_fundamental  \\\n",
       "4720           False    True                0                         0   \n",
       "5234           False    True                0                         0   \n",
       "2085           False    True                0                         0   \n",
       "\n",
       "      escol_ensino_médio  escol_ensino_superior  escol_especialização  \\\n",
       "4720                   0                      0                     0   \n",
       "5234                   0                      1                     0   \n",
       "2085                   1                      0                     0   \n",
       "\n",
       "      escol_mestrado  escol_sem_instrução_formal  nao_atendidas  \n",
       "4720               0                           0           True  \n",
       "5234               0                           0           True  \n",
       "2085               0                           0           True  \n",
       "\n",
       "[3 rows x 22 columns]"
      ]
     },
     "execution_count": 5,
     "metadata": {},
     "output_type": "execute_result"
    }
   ],
   "source": [
    "df.sample(3)"
   ]
  },
  {
   "cell_type": "code",
   "execution_count": 6,
   "id": "9fb62593-8880-4c5f-96c6-83b4544782a1",
   "metadata": {},
   "outputs": [],
   "source": [
    "df['ensino_superior'] = df['escol_ensino_superior'] + df['escol_especialização'] + df['escol_doutorado'] + df['escol_mestrado']"
   ]
  },
  {
   "cell_type": "code",
   "execution_count": 7,
   "id": "135ea3a1-f03d-470b-8d33-4090d7c7740e",
   "metadata": {},
   "outputs": [],
   "source": [
    "df['cidade_grande'] = df['cidade_grande'] + df['capital']"
   ]
  },
  {
   "cell_type": "code",
   "execution_count": 8,
   "id": "82984c3e-6c4f-43c3-a16a-c7a4707ccda3",
   "metadata": {},
   "outputs": [],
   "source": [
    "cols = ['mulher', 'capital', 'cidade_grande', 'profissao_jornalista', 'ensino_superior', 'nao_atendidas']"
   ]
  },
  {
   "cell_type": "code",
   "execution_count": 9,
   "id": "f2eb1fb1-ec6f-42af-8479-2b1c537d72ce",
   "metadata": {},
   "outputs": [],
   "source": [
    "df = df[cols]"
   ]
  },
  {
   "cell_type": "code",
   "execution_count": null,
   "id": "5237dcb5-aad1-468f-88bf-5400b10b5135",
   "metadata": {},
   "outputs": [],
   "source": []
  },
  {
   "cell_type": "code",
   "execution_count": 10,
   "id": "84b3ffb0-5ca1-4945-84c8-a932db7ce52a",
   "metadata": {},
   "outputs": [],
   "source": [
    "y = df['nao_atendidas']\n",
    "X = df.drop('nao_atendidas', axis=1)\n",
    "\n",
    "\n",
    "X_train, X_test, y_train, y_test = train_test_split(X, y, test_size=0.33, random_state=42)"
   ]
  },
  {
   "cell_type": "markdown",
   "id": "f00f5727-083d-450c-ad81-74f16391a63b",
   "metadata": {},
   "source": [
    "Modelo baseline - Regressao Logistica"
   ]
  },
  {
   "cell_type": "code",
   "execution_count": 11,
   "id": "d30f7bed-3128-44d5-9425-a1e16c0c883b",
   "metadata": {},
   "outputs": [],
   "source": [
    "from sklearn.linear_model import LogisticRegression"
   ]
  },
  {
   "cell_type": "code",
   "execution_count": 12,
   "id": "de2c1951-ce76-474d-83a9-7900ab875b51",
   "metadata": {},
   "outputs": [],
   "source": [
    "clf = LogisticRegression()"
   ]
  },
  {
   "cell_type": "code",
   "execution_count": 13,
   "id": "756e21a6-3a0a-492d-8ae3-c34ae61729b5",
   "metadata": {},
   "outputs": [
    {
     "data": {
      "text/plain": [
       "LogisticRegression()"
      ]
     },
     "execution_count": 13,
     "metadata": {},
     "output_type": "execute_result"
    }
   ],
   "source": [
    "clf.fit(X_train, y_train)"
   ]
  },
  {
   "cell_type": "code",
   "execution_count": 14,
   "id": "643c6eec-2f0c-49db-b7a9-c600da809739",
   "metadata": {},
   "outputs": [
    {
     "data": {
      "text/plain": [
       "0.5295535527143157"
      ]
     },
     "execution_count": 14,
     "metadata": {},
     "output_type": "execute_result"
    }
   ],
   "source": [
    "clf.score(X_train, y_train)"
   ]
  },
  {
   "cell_type": "code",
   "execution_count": 15,
   "id": "b5c01218-f797-4fbd-a3b1-0d32c5055326",
   "metadata": {},
   "outputs": [],
   "source": [
    "def eval_train(clf):\n",
    "    \n",
    "    pred_train = clf.predict(X_train)\n",
    "    cm = confusion_matrix(y_train, pred_train)\n",
    "    \n",
    "    print('Confusion Matrix:')\n",
    "    print(cm)\n",
    "    \n",
    "    auc = roc_auc_score(y_train, clf.predict_proba(X_train)[:, 1])\n",
    "    print(f'Auc score: {auc}')\n",
    "    \n",
    "    fpr, tpr, thresholds = roc_curve(y_train, pred_train)\n",
    "    estim_name = str(clf).replace('(', '').replace(')', '')\n",
    "    display = RocCurveDisplay(fpr=fpr, tpr=tpr, roc_auc=auc,\n",
    "                    estimator_name=estim_name)\n",
    "                                      \n",
    "    display.plot()"
   ]
  },
  {
   "cell_type": "code",
   "execution_count": 16,
   "id": "eb478f1c-693d-46be-aaac-99ebf883fb86",
   "metadata": {},
   "outputs": [
    {
     "name": "stdout",
     "output_type": "stream",
     "text": [
      "Confusion Matrix:\n",
      "[[2105 2696]\n",
      " [1793 2948]]\n",
      "Auc score: 0.5367580560560464\n"
     ]
    },
    {
     "data": {
      "image/png": "[encoded data removed]",
      "text/plain": [
       "<Figure size 432x288 with 1 Axes>"
      ]
     },
     "metadata": {},
     "output_type": "display_data"
    }
   ],
   "source": [
    "eval_train(clf)"
   ]
  },
  {
   "cell_type": "code",
   "execution_count": 17,
   "id": "68d605c1-2f28-45ff-a765-5ff5fdd3a1df",
   "metadata": {},
   "outputs": [],
   "source": [
    "from sklearn.tree import DecisionTreeClassifier"
   ]
  },
  {
   "cell_type": "code",
   "execution_count": 18,
   "id": "db64f61d-176a-405a-a31d-e71dd2ce20a1",
   "metadata": {},
   "outputs": [],
   "source": [
    "clf = DecisionTreeClassifier(random_state=42)"
   ]
  },
  {
   "cell_type": "code",
   "execution_count": 19,
   "id": "cbf0c8b0-78e7-4b7e-90b9-b42ef3b9f073",
   "metadata": {},
   "outputs": [
    {
     "data": {
      "text/plain": [
       "DecisionTreeClassifier(random_state=42)"
      ]
     },
     "execution_count": 19,
     "metadata": {},
     "output_type": "execute_result"
    }
   ],
   "source": [
    "clf.fit(X_train, y_train)"
   ]
  },
  {
   "cell_type": "code",
   "execution_count": 20,
   "id": "a288034e-5905-493b-9cd7-4a5425837309",
   "metadata": {},
   "outputs": [
    {
     "data": {
      "text/plain": [
       "0.5310207503667994"
      ]
     },
     "execution_count": 20,
     "metadata": {},
     "output_type": "execute_result"
    }
   ],
   "source": [
    "clf.score(X_train, y_train)"
   ]
  },
  {
   "cell_type": "code",
   "execution_count": 21,
   "id": "ad3c7c05-4b60-4ecd-b7b5-046e53fffb77",
   "metadata": {},
   "outputs": [
    {
     "name": "stdout",
     "output_type": "stream",
     "text": [
      "Confusion Matrix:\n",
      "[[2117 2684]\n",
      " [1791 2950]]\n",
      "Auc score: 0.5422918202242986\n"
     ]
    },
    {
     "data": {
      "image/png": "[encoded data removed]",
      "text/plain": [
       "<Figure size 432x288 with 1 Axes>"
      ]
     },
     "metadata": {},
     "output_type": "display_data"
    }
   ],
   "source": [
    "eval_train(clf)"
   ]
  },
  {
   "cell_type": "code",
   "execution_count": 22,
   "id": "9403cc5e-baec-404a-bf12-967dadb2eeb9",
   "metadata": {},
   "outputs": [
    {
     "data": {
      "text/plain": [
       "<sklearn.tree._tree.Tree at 0x18d9e6fec00>"
      ]
     },
     "execution_count": 22,
     "metadata": {},
     "output_type": "execute_result"
    }
   ],
   "source": [
    "clf.tree_"
   ]
  },
  {
   "cell_type": "code",
   "execution_count": 23,
   "id": "4e4bd473-4364-45fb-a2fc-9fc0c52c6402",
   "metadata": {},
   "outputs": [
    {
     "data": {
      "text/plain": [
       "45"
      ]
     },
     "execution_count": 23,
     "metadata": {},
     "output_type": "execute_result"
    }
   ],
   "source": [
    "clf.tree_.node_count"
   ]
  },
  {
   "cell_type": "code",
   "execution_count": 24,
   "id": "370f28d4-9d46-4fb1-81a2-838e83c58a3d",
   "metadata": {},
   "outputs": [
    {
     "data": {
      "text/plain": [
       "23"
      ]
     },
     "execution_count": 24,
     "metadata": {},
     "output_type": "execute_result"
    }
   ],
   "source": [
    "clf.tree_.n_leaves"
   ]
  },
  {
   "cell_type": "code",
   "execution_count": 25,
   "id": "02cef4e1-20b2-4924-be8a-4e07b450deed",
   "metadata": {},
   "outputs": [
    {
     "data": {
      "text/plain": [
       "5"
      ]
     },
     "execution_count": 25,
     "metadata": {},
     "output_type": "execute_result"
    }
   ],
   "source": [
    "clf.tree_.max_depth"
   ]
  },
  {
   "cell_type": "code",
   "execution_count": 26,
   "id": "4907a5da-a0ff-4753-998f-6cbff0ab8d96",
   "metadata": {},
   "outputs": [
    {
     "data": {
      "text/plain": [
       "array([0.51308901, 0.50994764, 0.5408805 , 0.53878407, 0.51991614,\n",
       "       0.54716981, 0.53563941, 0.5115304 , 0.53459119, 0.52096436])"
      ]
     },
     "execution_count": 26,
     "metadata": {},
     "output_type": "execute_result"
    }
   ],
   "source": [
    "cross_val_score(clf, X_train, y_train, cv=10)"
   ]
  },
  {
   "cell_type": "code",
   "execution_count": null,
   "id": "de323913-d34a-4076-9fca-a22041fc52ad",
   "metadata": {},
   "outputs": [],
   "source": []
  }
 ],
 "metadata": {
  "kernelspec": {
   "display_name": "Python 3 (ipykernel)",
   "language": "python",
   "name": "python3"
  },
  "language_info": {
   "codemirror_mode": {
    "name": "ipython",
    "version": 3
   },
   "file_extension": ".py",
   "mimetype": "text/x-python",
   "name": "python",
   "nbconvert_exporter": "python",
   "pygments_lexer": "ipython3",
   "version": "3.9.7"
  }
 },
 "nbformat": 4,
 "nbformat_minor": 5
}
